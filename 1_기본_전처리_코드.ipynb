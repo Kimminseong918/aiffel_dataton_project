{
  "nbformat": 4,
  "nbformat_minor": 0,
  "metadata": {
    "colab": {
      "provenance": []
    },
    "kernelspec": {
      "name": "python3",
      "display_name": "Python 3"
    },
    "language_info": {
      "name": "python"
    }
  },
  "cells": [
    {
      "cell_type": "code",
      "execution_count": null,
      "metadata": {
        "id": "SKnuhe_QDrqd",
        "colab": {
          "base_uri": "https://localhost:8080/"
        },
        "outputId": "75fc5e41-2683-4202-d5e8-bf7b09b4f30c"
      },
      "outputs": [
        {
          "output_type": "stream",
          "name": "stdout",
          "text": [
            "mkdir: cannot create directory ‘data’: File exists\n"
          ]
        }
      ],
      "source": [
        "!mkdir data"
      ]
    },
    {
      "cell_type": "code",
      "source": [
        "import pandas as pd\n",
        "import numpy as np\n",
        "import matplotlib.pyplot as plt\n",
        "import seaborn as sns\n",
        "import warnings\n",
        "warnings.filterwarnings('ignore')\n",
        "\n",
        "plt.style.use('seaborn-v0_8')\n",
        "sns.set_palette(\"husl\")\n",
        "\n",
        "from sklearn.feature_extraction.text import TfidfVectorizer, CountVectorizer\n",
        "import re\n"
      ],
      "metadata": {
        "id": "tGSaF1z4E5cM"
      },
      "execution_count": null,
      "outputs": []
    },
    {
      "cell_type": "code",
      "source": [
        "train=pd.read_csv('./data/train.tsv',sep=\"\\t\")"
      ],
      "metadata": {
        "id": "fNosHksCFAxs"
      },
      "execution_count": null,
      "outputs": []
    },
    {
      "cell_type": "code",
      "source": [
        "#가설: 판매자가 적극적일수록(판매자의 신뢰도가 높을수록) 상품의 가격은 높을 것이다\n",
        "\n",
        "#판매자가 적극적이다 = 판매자의 신뢰도가 높다\n",
        "\n",
        "#다음 기준을 만족하기 위해서 새로 세운 기준\n",
        "# 1) item_description의 글자 수를 계산하여 설명의 길이 구하기 > 정량화\n",
        "# 2) item_description에 'authentic(정품)', 'new', 'NWT(New with tags)', 'mint condition(최상급 상태)' 등 긍정적/신뢰도 키워드가 몇 개나 포함되었는지 계산\n",
        "# 3) 신뢰도 점수 새롭게 생성\n",
        "    #중요도\n",
        "    #가중치 > 정규화 스케일링 필요\n",
        "    #corr"
      ],
      "metadata": {
        "id": "V9JGeUGFFAYX"
      },
      "execution_count": null,
      "outputs": []
    },
    {
      "cell_type": "code",
      "source": [
        "#가격 = 0이면 삭제\n",
        "zero_price_count = (train['price'] == 0).sum()\n",
        "train = train[train['price'] > 0].copy()"
      ],
      "metadata": {
        "id": "hCjkJiyZDtH5"
      },
      "execution_count": null,
      "outputs": []
    },
    {
      "cell_type": "code",
      "source": [
        "#가격 로그변환 후 히스토그램 출력\n",
        "plt.figure(figsize=(12, 6))\n",
        "plt.hist(np.log1p(train['price']), bins=100, alpha=0.7)\n",
        "plt.title('Log Transformed Price Distribution', fontsize=15)\n",
        "plt.xlabel('Log(Price + 1)')\n",
        "plt.ylabel('Frequency')\n",
        "plt.grid(True)\n",
        "plt.show()"
      ],
      "metadata": {
        "colab": {
          "base_uri": "https://localhost:8080/",
          "height": 565
        },
        "id": "pV_4hPYRq3x9",
        "outputId": "7857e01d-5766-4200-94e6-deab54c56fae"
      },
      "execution_count": null,
      "outputs": [
        {
          "output_type": "display_data",
          "data": {
            "text/plain": [
              "<Figure size 1200x600 with 1 Axes>"
            ],
            "image/png": "[encoded data removed]"
          },
          "metadata": {}
        }
      ]
    },
    {
      "cell_type": "code",
      "source": [
        "#결측치 사전 제거 > 카테고리 네임, 아이템 설명\n",
        "columns_to_check = ['category_name', 'item_description']\n",
        "train.dropna(subset=columns_to_check, inplace=True)\n",
        "\n",
        "train.isna().sum()"
      ],
      "metadata": {
        "colab": {
          "base_uri": "https://localhost:8080/",
          "height": 335
        },
        "id": "Q3X25CLN_zh1",
        "outputId": "0e6baddf-8fed-4d23-e2b9-c1e0338992ea"
      },
      "execution_count": null,
      "outputs": [
        {
          "output_type": "execute_result",
          "data": {
            "text/plain": [
              "train_id                  0\n",
              "name                      0\n",
              "item_condition_id         0\n",
              "category_name             0\n",
              "brand_name           177969\n",
              "price                     0\n",
              "shipping                  0\n",
              "item_description          0\n",
              "dtype: int64"
            ],
            "text/html": [
              "<div>\n",
              "<style scoped>\n",
              "    .dataframe tbody tr th:only-of-type {\n",
              "        vertical-align: middle;\n",
              "    }\n",
              "\n",
              "    .dataframe tbody tr th {\n",
              "        vertical-align: top;\n",
              "    }\n",
              "\n",
              "    .dataframe thead th {\n",
              "        text-align: right;\n",
              "    }\n",
              "</style>\n",
              "<table border=\"1\" class=\"dataframe\">\n",
              "  <thead>\n",
              "    <tr style=\"text-align: right;\">\n",
              "      <th></th>\n",
              "      <th>0</th>\n",
              "    </tr>\n",
              "  </thead>\n",
              "  <tbody>\n",
              "    <tr>\n",
              "      <th>train_id</th>\n",
              "      <td>0</td>\n",
              "    </tr>\n",
              "    <tr>\n",
              "      <th>name</th>\n",
              "      <td>0</td>\n",
              "    </tr>\n",
              "    <tr>\n",
              "      <th>item_condition_id</th>\n",
              "      <td>0</td>\n",
              "    </tr>\n",
              "    <tr>\n",
              "      <th>category_name</th>\n",
              "      <td>0</td>\n",
              "    </tr>\n",
              "    <tr>\n",
              "      <th>brand_name</th>\n",
              "      <td>177969</td>\n",
              "    </tr>\n",
              "    <tr>\n",
              "      <th>price</th>\n",
              "      <td>0</td>\n",
              "    </tr>\n",
              "    <tr>\n",
              "      <th>shipping</th>\n",
              "      <td>0</td>\n",
              "    </tr>\n",
              "    <tr>\n",
              "      <th>item_description</th>\n",
              "      <td>0</td>\n",
              "    </tr>\n",
              "  </tbody>\n",
              "</table>\n",
              "</div><br><label><b>dtype:</b> int64</label>"
            ]
          },
          "metadata": {},
          "execution_count": 9
        }
      ]
    },
    {
      "cell_type": "code",
      "source": [
        "#brand_name 결측치 처리\n",
        "train['is_brand'] = np.where(train['brand_name'].isna(), 0, 1) #0 > 아니다, 1 > 브랜드 O\n",
        "\n",
        "print(train[['brand_name', 'is_brand']].head())"
      ],
      "metadata": {
        "colab": {
          "base_uri": "https://localhost:8080/"
        },
        "id": "OuDgVtLsF5uc",
        "outputId": "4fb8c947-c011-4ee7-ea43-de0ba6f47d7d"
      },
      "execution_count": null,
      "outputs": [
        {
          "output_type": "stream",
          "name": "stdout",
          "text": [
            "  brand_name  is_brand\n",
            "0        NaN         0\n",
            "1      Razer         1\n",
            "2     Target         1\n",
            "3        NaN         0\n",
            "4        NaN         0\n"
          ]
        }
      ]
    },
    {
      "cell_type": "code",
      "source": [
        "#상품 설명 결측치 처리, 글자수 세기 (뛰어쓰기 포함)\n",
        "count = (train['item_description'] == 'No description yet').sum()\n",
        "\n",
        "print(count)"
      ],
      "metadata": {
        "colab": {
          "base_uri": "https://localhost:8080/"
        },
        "id": "03GmthRoF5r2",
        "outputId": "0b2e2d0a-3fba-4572-c8a7-d713582bd436"
      },
      "execution_count": null,
      "outputs": [
        {
          "output_type": "stream",
          "name": "stdout",
          "text": [
            "23217\n"
          ]
        }
      ]
    },
    {
      "cell_type": "code",
      "source": [
        "train['new_item_desc'] = train['item_description']\n",
        "\n",
        "train['new_item_desc'] = train['new_item_desc'].replace('No description yet', np.nan)\n",
        "train['new_item_desc'] = train['new_item_desc'].fillna('')\n",
        "\n",
        "train['desc_len'] = train['new_item_desc'].str.len()\n",
        "\n",
        "print(train[['item_description', 'new_item_desc', 'desc_len']].head(10))"
      ],
      "metadata": {
        "colab": {
          "base_uri": "https://localhost:8080/"
        },
        "id": "XkklOEYkF5o8",
        "outputId": "94509697-6fa1-4e37-d10b-babc0858bda3"
      },
      "execution_count": null,
      "outputs": [
        {
          "output_type": "stream",
          "name": "stdout",
          "text": [
            "                                    item_description  \\\n",
            "0                                 No description yet   \n",
            "1  This keyboard is in great condition and works ...   \n",
            "2  Adorable top with a hint of lace and a key hol...   \n",
            "3  New with tags. Leather horses. Retail for [rm]...   \n",
            "4          Complete with certificate of authenticity   \n",
            "5  Banana republic bottoms, Candies skirt with ma...   \n",
            "6  Size small but straps slightly shortened to fi...   \n",
            "7  You get three pairs of Sophie cheer shorts siz...   \n",
            "8   Girls Size small Plus green. Three shorts total.   \n",
            "9  I realized his pants are on backwards after th...   \n",
            "\n",
            "                                       new_item_desc  desc_len  \n",
            "0                                                            0  \n",
            "1  This keyboard is in great condition and works ...       188  \n",
            "2  Adorable top with a hint of lace and a key hol...       124  \n",
            "3  New with tags. Leather horses. Retail for [rm]...       173  \n",
            "4          Complete with certificate of authenticity        41  \n",
            "5  Banana republic bottoms, Candies skirt with ma...       102  \n",
            "6  Size small but straps slightly shortened to fi...        83  \n",
            "7  You get three pairs of Sophie cheer shorts siz...       268  \n",
            "8   Girls Size small Plus green. Three shorts total.        48  \n",
            "9  I realized his pants are on backwards after th...       297  \n"
          ]
        }
      ]
    },
    {
      "cell_type": "code",
      "source": [
        "#카테고리 분류\n",
        "\n",
        "split_categories = train['category_name'].str.split('/', n=2, expand=True)\n",
        "\n",
        "train['main_category'] = split_categories[0]\n",
        "train['mid_category'] = split_categories[1]\n",
        "train['sub_category'] = split_categories[2]\n",
        "\n",
        "print(train[['category_name', 'main_category', 'mid_category', 'sub_category']].head(10))"
      ],
      "metadata": {
        "colab": {
          "base_uri": "https://localhost:8080/"
        },
        "id": "QmYjehrkF5gx",
        "outputId": "259993cb-75bb-4d7c-9ffd-768effbcc92f"
      },
      "execution_count": null,
      "outputs": [
        {
          "output_type": "stream",
          "name": "stdout",
          "text": [
            "                                       category_name           main_category  \\\n",
            "0                                  Men/Tops/T-shirts                     Men   \n",
            "1  Electronics/Computers & Tablets/Components & P...             Electronics   \n",
            "2                        Women/Tops & Blouses/Blouse                   Women   \n",
            "3                 Home/Home Décor/Home Décor Accents                    Home   \n",
            "4                            Women/Jewelry/Necklaces                   Women   \n",
            "5                                  Women/Other/Other                   Women   \n",
            "6                           Women/Swimwear/Two-Piece                   Women   \n",
            "7                    Sports & Outdoors/Apparel/Girls       Sports & Outdoors   \n",
            "8                    Sports & Outdoors/Apparel/Girls       Sports & Outdoors   \n",
            "9           Vintage & Collectibles/Collectibles/Doll  Vintage & Collectibles   \n",
            "\n",
            "          mid_category        sub_category  \n",
            "0                 Tops            T-shirts  \n",
            "1  Computers & Tablets  Components & Parts  \n",
            "2       Tops & Blouses              Blouse  \n",
            "3           Home Décor  Home Décor Accents  \n",
            "4              Jewelry           Necklaces  \n",
            "5                Other               Other  \n",
            "6             Swimwear           Two-Piece  \n",
            "7              Apparel               Girls  \n",
            "8              Apparel               Girls  \n",
            "9         Collectibles                Doll  \n"
          ]
        }
      ]
    },
    {
      "cell_type": "code",
      "source": [
        "train['main_category'].unique()"
      ],
      "metadata": {
        "colab": {
          "base_uri": "https://localhost:8080/"
        },
        "id": "v3geVg0xF5dz",
        "outputId": "da5ec17f-5f48-40b9-8086-f0cffbe63b98"
      },
      "execution_count": null,
      "outputs": [
        {
          "output_type": "execute_result",
          "data": {
            "text/plain": [
              "array(['Men', 'Electronics', 'Women', 'Home', 'Sports & Outdoors',\n",
              "       'Vintage & Collectibles', 'Beauty', 'Other', 'Kids', 'Handmade'],\n",
              "      dtype=object)"
            ]
          },
          "metadata": {},
          "execution_count": 14
        }
      ]
    },
    {
      "cell_type": "code",
      "source": [
        "train['mid_category'].unique()"
      ],
      "metadata": {
        "colab": {
          "base_uri": "https://localhost:8080/"
        },
        "id": "hf4JNNbl3mjw",
        "outputId": "19665949-c624-46b6-e4bf-c23c2cbe0950"
      },
      "execution_count": null,
      "outputs": [
        {
          "output_type": "execute_result",
          "data": {
            "text/plain": [
              "array(['Tops', 'Computers & Tablets', 'Tops & Blouses', 'Home Décor',\n",
              "       'Jewelry', 'Other', 'Swimwear', 'Apparel', 'Collectibles',\n",
              "       'Makeup', 'Fragrance', 'Dresses', 'Office supplies', 'Shoes',\n",
              "       'Gear', 'Athletic Apparel', 'Cell Phones & Accessories', 'Jeans',\n",
              "       'Underwear', 'Skin Care', 'Toys', \"Women's Handbags\",\n",
              "       'Video Games & Consoles', 'Coats & Jackets', 'Pants', 'Girls (4+)',\n",
              "       'Antique', 'Kitchen & Dining', 'Sweaters', 'Boys 0-24 Mos',\n",
              "       'Girls 0-24 Mos', 'Maternity', 'Bedding', 'Exercise',\n",
              "       'Trading Cards', 'Boys (4+)', 'Storage & Organization', 'Fan Shop',\n",
              "       'Girls 2T-5T', \"Men's Accessories\", 'Boys 2T-5T',\n",
              "       \"Women's Accessories\", 'Daily & Travel items', 'Skirts',\n",
              "       'Hair Care', 'Pet Supplies', 'Book', 'Tools & Accessories',\n",
              "       'Team Sports', 'Home Appliances', 'Accessories', 'Bags and Purses',\n",
              "       'Sweats & Hoodies', 'Shorts', 'TV, Audio & Surveillance',\n",
              "       'Outdoors', 'Bath & Body', 'Car Seats & Accessories', 'Toy', 'Art',\n",
              "       'Seasonal Décor', 'Footwear', 'Housewares', 'Media',\n",
              "       'Cameras & Photography', 'Glass', 'Paper Goods',\n",
              "       'Cleaning Supplies', 'Books', \"Kids' Home Store\", 'Electronics',\n",
              "       'Diapering', 'Bath', 'Children', 'Magazines', 'Artwork',\n",
              "       'Automotive', 'Serving', 'Clothing', 'Supplies', 'Feeding',\n",
              "       'Suits & Blazers', 'Golf', 'Music', 'Pets', 'Health & Baby Care',\n",
              "       'Nursery', 'Furniture', 'Geekery', 'Musical instruments',\n",
              "       'Books and Zines', 'Safety', 'Crochet', 'Home Decor', 'Holidays',\n",
              "       'Strollers', 'Pregnancy & Maternity', 'Needlecraft',\n",
              "       'Paper Ephemera', 'Car Audio, Video & GPS', 'Bathing & Skin Care',\n",
              "       'Dolls and Miniatures', 'Suits', 'Weddings', 'Others', 'Knitting',\n",
              "       'Patterns', 'Blazers & Sport Coats', 'Woodworking',\n",
              "       'Potty Training', 'Candles', 'Ceramics and Pottery', 'Quilts'],\n",
              "      dtype=object)"
            ]
          },
          "metadata": {},
          "execution_count": 15
        }
      ]
    },
    {
      "cell_type": "code",
      "source": [
        "train['main_category'].value_counts()"
      ],
      "metadata": {
        "id": "15Np_BUqF5PT",
        "colab": {
          "base_uri": "https://localhost:8080/",
          "height": 429
        },
        "outputId": "33087d54-a524-4117-b6e3-cf2cf2d90c3f"
      },
      "execution_count": null,
      "outputs": [
        {
          "output_type": "execute_result",
          "data": {
            "text/plain": [
              "main_category\n",
              "Women                     188180\n",
              "Beauty                     58895\n",
              "Kids                       48629\n",
              "Electronics                34661\n",
              "Men                        26528\n",
              "Home                       19153\n",
              "Vintage & Collectibles     13229\n",
              "Other                      12861\n",
              "Handmade                    8639\n",
              "Sports & Outdoors           7070\n",
              "Name: count, dtype: int64"
            ],
            "text/html": [
              "<div>\n",
              "<style scoped>\n",
              "    .dataframe tbody tr th:only-of-type {\n",
              "        vertical-align: middle;\n",
              "    }\n",
              "\n",
              "    .dataframe tbody tr th {\n",
              "        vertical-align: top;\n",
              "    }\n",
              "\n",
              "    .dataframe thead th {\n",
              "        text-align: right;\n",
              "    }\n",
              "</style>\n",
              "<table border=\"1\" class=\"dataframe\">\n",
              "  <thead>\n",
              "    <tr style=\"text-align: right;\">\n",
              "      <th></th>\n",
              "      <th>count</th>\n",
              "    </tr>\n",
              "    <tr>\n",
              "      <th>main_category</th>\n",
              "      <th></th>\n",
              "    </tr>\n",
              "  </thead>\n",
              "  <tbody>\n",
              "    <tr>\n",
              "      <th>Women</th>\n",
              "      <td>188180</td>\n",
              "    </tr>\n",
              "    <tr>\n",
              "      <th>Beauty</th>\n",
              "      <td>58895</td>\n",
              "    </tr>\n",
              "    <tr>\n",
              "      <th>Kids</th>\n",
              "      <td>48629</td>\n",
              "    </tr>\n",
              "    <tr>\n",
              "      <th>Electronics</th>\n",
              "      <td>34661</td>\n",
              "    </tr>\n",
              "    <tr>\n",
              "      <th>Men</th>\n",
              "      <td>26528</td>\n",
              "    </tr>\n",
              "    <tr>\n",
              "      <th>Home</th>\n",
              "      <td>19153</td>\n",
              "    </tr>\n",
              "    <tr>\n",
              "      <th>Vintage &amp; Collectibles</th>\n",
              "      <td>13229</td>\n",
              "    </tr>\n",
              "    <tr>\n",
              "      <th>Other</th>\n",
              "      <td>12861</td>\n",
              "    </tr>\n",
              "    <tr>\n",
              "      <th>Handmade</th>\n",
              "      <td>8639</td>\n",
              "    </tr>\n",
              "    <tr>\n",
              "      <th>Sports &amp; Outdoors</th>\n",
              "      <td>7070</td>\n",
              "    </tr>\n",
              "  </tbody>\n",
              "</table>\n",
              "</div><br><label><b>dtype:</b> int64</label>"
            ]
          },
          "metadata": {},
          "execution_count": 16
        }
      ]
    },
    {
      "cell_type": "code",
      "source": [
        "# 키워드 리스트 > 신뢰도\n",
        "# 대소문자 구분 X\n",
        "keyword_list = ['authentic', 'new', 'nwt', 'mint', 'sealed', 'perfect', 'excellent']\n",
        "keyword_pattern = '|'.join(keyword_list)\n",
        "\n",
        "train['keyword_count'] = train['item_description'].str.lower().str.count(keyword_pattern)\n",
        "\n",
        "print(train[['item_description', 'keyword_count']].sort_values(by='keyword_count', ascending=False).head())\n",
        "\n",
        "#상품을 강조하고 검색에 잘 노출시키기 위해, 신뢰도를 주는 키워드들을 설명에 의도적으로 반복해서 많이 사용하는 '키워드 스터핑(Keyword Stuffing)' 전략\n",
        "#키워드를 많이 사용한 상품들이 실제로도 평균보다 높은 가격에 팔리는가"
      ],
      "metadata": {
        "id": "NjmulPVSF5Bq",
        "colab": {
          "base_uri": "https://localhost:8080/"
        },
        "outputId": "8931214a-2ebc-44dd-e62a-ae69220b5f76"
      },
      "execution_count": null,
      "outputs": [
        {
          "output_type": "stream",
          "name": "stdout",
          "text": [
            "                                         item_description  keyword_count\n",
            "196308  Welcome! This is a bundle of crafts supplies d...             19\n",
            "276784  Bin Pickers from YT wholesale lot #60. All kid...             19\n",
            "391340  FREE SHIP BUNDLE INCLUDES EVERYTHING IN PICS- ...             18\n",
            "31019   Lot #13. 25 piece lot. Most items are gently u...             14\n",
            "149094  (left to right) WILL NOT SEPARATE SO DO NOT AS...             14\n"
          ]
        }
      ]
    },
    {
      "cell_type": "code",
      "source": [
        "#상관분석\n",
        "\n",
        "numeric_features = [\n",
        "    'price',\n",
        "    'item_condition_id',\n",
        "    'shipping',\n",
        "    'is_brand', # has_brand와 동일\n",
        "    'desc_len',\n",
        "    'keyword_count'\n",
        "]\n",
        "\n",
        "corr_df = train[numeric_features]\n",
        "\n",
        "corr_matrix = corr_df.corr()\n",
        "print(corr_matrix)\n"
      ],
      "metadata": {
        "id": "J4j4r1TKCJVT",
        "colab": {
          "base_uri": "https://localhost:8080/"
        },
        "outputId": "73d895ba-58b6-4b63-e5e3-b6ed0ba3a31a"
      },
      "execution_count": null,
      "outputs": [
        {
          "output_type": "stream",
          "name": "stdout",
          "text": [
            "                      price  item_condition_id  shipping  is_brand  desc_len  \\\n",
            "price              1.000000          -0.001825 -0.097033  0.126202  0.048231   \n",
            "item_condition_id -0.001825           1.000000 -0.192732  0.162794 -0.132403   \n",
            "shipping          -0.097033          -0.192732  1.000000 -0.136337  0.111110   \n",
            "is_brand           0.126202           0.162794 -0.136337  1.000000 -0.117785   \n",
            "desc_len           0.048231          -0.132403  0.111110 -0.117785  1.000000   \n",
            "keyword_count      0.105926          -0.354049  0.077279  0.003651  0.306718   \n",
            "\n",
            "                   keyword_count  \n",
            "price                   0.105926  \n",
            "item_condition_id      -0.354049  \n",
            "shipping                0.077279  \n",
            "is_brand                0.003651  \n",
            "desc_len                0.306718  \n",
            "keyword_count           1.000000  \n"
          ]
        }
      ]
    },
    {
      "cell_type": "code",
      "source": [
        "plt.figure(figsize=(10, 8))\n",
        "heatmap = sns.heatmap(\n",
        "    corr_matrix,\n",
        "    annot=True,\n",
        "    cmap='coolwarm',\n",
        "    fmt='.2f',\n",
        "    linewidths=.5)\n",
        "plt.show()"
      ],
      "metadata": {
        "id": "tCjbKBcECJM-",
        "colab": {
          "base_uri": "https://localhost:8080/",
          "height": 682
        },
        "outputId": "95a281ea-efa6-41b2-cbd0-5fa062c81219"
      },
      "execution_count": null,
      "outputs": [
        {
          "output_type": "display_data",
          "data": {
            "text/plain": [
              "<Figure size 1000x800 with 2 Axes>"
            ],
            "image/png": "[encoded data removed]"
          },
          "metadata": {}
        }
      ]
    },
    {
      "cell_type": "code",
      "source": [
        "#정규화\n",
        "from sklearn.preprocessing import MinMaxScaler\n",
        "\n",
        "features_to_normalize = ['desc_len', 'keyword_count', 'item_condition_id']\n",
        "scaler = MinMaxScaler()\n",
        "\n",
        "for feature in features_to_normalize:\n",
        "    train[f'{feature}_norm'] = scaler.fit_transform(train[[feature]])\n",
        "\n",
        "#원핫인코딩 > 카테고리 대분류\n",
        "main_category_dummies = pd.get_dummies(train['main_category'], prefix='category')\n",
        "train_processed = pd.concat([train, main_category_dummies], axis=1)\n",
        "\n",
        "#병합\n",
        "final_features_list = [\n",
        "    'item_condition_id_norm',\n",
        "    'desc_len_norm',\n",
        "    'keyword_count_norm',\n",
        "    'shipping',\n",
        "    'is_brand'\n",
        "] + list(main_category_dummies.columns)\n",
        "\n",
        "final_df = train_processed[final_features_list]\n",
        "print(final_df.head())"
      ],
      "metadata": {
        "id": "BfFa92ETF4_c",
        "colab": {
          "base_uri": "https://localhost:8080/"
        },
        "outputId": "e7f03a7f-b91f-4445-ddab-09dff4ea9c14"
      },
      "execution_count": null,
      "outputs": [
        {
          "output_type": "stream",
          "name": "stdout",
          "text": [
            "   item_condition_id_norm  desc_len_norm  keyword_count_norm  shipping  \\\n",
            "0                     0.5       0.000000            0.000000       1.0   \n",
            "1                     0.5       0.184676            0.052632       0.0   \n",
            "2                     0.0       0.121807            0.000000       1.0   \n",
            "3                     0.0       0.169941            0.052632       1.0   \n",
            "4                     0.0       0.040275            0.052632       0.0   \n",
            "\n",
            "   is_brand  category_Beauty  category_Electronics  category_Handmade  \\\n",
            "0         0            False                 False              False   \n",
            "1         1            False                  True              False   \n",
            "2         1            False                 False              False   \n",
            "3         0            False                 False              False   \n",
            "4         0            False                 False              False   \n",
            "\n",
            "   category_Home  category_Kids  category_Men  category_Other  \\\n",
            "0          False          False          True           False   \n",
            "1          False          False         False           False   \n",
            "2          False          False         False           False   \n",
            "3           True          False         False           False   \n",
            "4          False          False         False           False   \n",
            "\n",
            "   category_Sports & Outdoors  category_Vintage & Collectibles  category_Women  \n",
            "0                       False                            False           False  \n",
            "1                       False                            False           False  \n",
            "2                       False                            False            True  \n",
            "3                       False                            False           False  \n",
            "4                       False                            False            True  \n"
          ]
        }
      ]
    },
    {
      "cell_type": "code",
      "source": [
        "#상관관게 기반 가중치, 최종 신뢰도 점수 계산\n",
        "score_features = [\n",
        "    'item_condition_id_norm',\n",
        "    'keyword_count_norm',\n",
        "    'desc_len_norm',\n",
        "    'shipping',\n",
        "    'is_brand'\n",
        "]\n",
        "\n",
        "\n",
        "correlations = train_processed[score_features].corrwith(np.log1p(train_processed['price']))\n",
        "\n",
        "abs_correlations = correlations.abs()\n",
        "\n",
        "weights = abs_correlations / abs_correlations.sum()\n",
        "print(weights)\n",
        "\n",
        "\n",
        "#신뢰도 점수 계산\n",
        "train_processed['credibility_score'] = (\n",
        "    (1 - train_processed['item_condition_id_norm']) * weights.get('item_condition_id_norm', 0) +\n",
        "    train_processed['keyword_count_norm'] * weights.get('keyword_count_norm', 0) +\n",
        "    train_processed['desc_len_norm'] * weights.get('desc_len_norm', 0) +\n",
        "    train_processed['shipping'] * weights.get('shipping', 0) +\n",
        "    train_processed['is_brand'] * weights.get('is_brand', 0)\n",
        ")\n",
        "\n",
        "print(train_processed[['price', 'credibility_score']].head())\n",
        "\n",
        "final_df['credibility_score'] = train_processed['credibility_score']\n",
        "print(final_df.head())"
      ],
      "metadata": {
        "colab": {
          "base_uri": "https://localhost:8080/"
        },
        "id": "KnWGRq_lKv8M",
        "outputId": "4e23e84e-0cb0-4589-8611-d87455087984"
      },
      "execution_count": null,
      "outputs": [
        {
          "output_type": "stream",
          "name": "stdout",
          "text": [
            "item_condition_id_norm    0.006159\n",
            "keyword_count_norm        0.231471\n",
            "desc_len_norm             0.049912\n",
            "shipping                  0.375517\n",
            "is_brand                  0.336941\n",
            "dtype: float64\n",
            "   price  credibility_score\n",
            "0   10.0           0.378596\n",
            "1   52.0           0.361421\n",
            "2   10.0           0.724697\n",
            "3   35.0           0.402340\n",
            "4   44.0           0.020352\n",
            "   item_condition_id_norm  desc_len_norm  keyword_count_norm  shipping  \\\n",
            "0                     0.5       0.000000            0.000000       1.0   \n",
            "1                     0.5       0.184676            0.052632       0.0   \n",
            "2                     0.0       0.121807            0.000000       1.0   \n",
            "3                     0.0       0.169941            0.052632       1.0   \n",
            "4                     0.0       0.040275            0.052632       0.0   \n",
            "\n",
            "   is_brand  category_Beauty  category_Electronics  category_Handmade  \\\n",
            "0         0            False                 False              False   \n",
            "1         1            False                  True              False   \n",
            "2         1            False                 False              False   \n",
            "3         0            False                 False              False   \n",
            "4         0            False                 False              False   \n",
            "\n",
            "   category_Home  category_Kids  category_Men  category_Other  \\\n",
            "0          False          False          True           False   \n",
            "1          False          False         False           False   \n",
            "2          False          False         False           False   \n",
            "3           True          False         False           False   \n",
            "4          False          False         False           False   \n",
            "\n",
            "   category_Sports & Outdoors  category_Vintage & Collectibles  \\\n",
            "0                       False                            False   \n",
            "1                       False                            False   \n",
            "2                       False                            False   \n",
            "3                       False                            False   \n",
            "4                       False                            False   \n",
            "\n",
            "   category_Women  credibility_score  \n",
            "0           False           0.378596  \n",
            "1           False           0.361421  \n",
            "2            True           0.724697  \n",
            "3           False           0.402340  \n",
            "4            True           0.020352  \n"
          ]
        }
      ]
    },
    {
      "cell_type": "code",
      "source": [
        "#다중공선성 확인\n",
        "\n",
        "from statsmodels.stats.outliers_influence import variance_inflation_factor\n",
        "\n",
        "features_for_vif = train[[\n",
        "    'item_condition_id_norm',\n",
        "    'keyword_count_norm',\n",
        "    'desc_len_norm',\n",
        "    'shipping',\n",
        "    'is_brand'\n",
        "]].copy()\n",
        "\n",
        "\n",
        "features_for_vif.dropna(inplace=True)\n",
        "\n",
        "features_for_vif['intercept'] = 1\n",
        "\n",
        "vif = pd.DataFrame()\n",
        "vif[\"Variable\"] = [col for col in features_for_vif.columns if col != 'intercept'] # intercept 제외\n",
        "vif[\"VIF\"] = [variance_inflation_factor(features_for_vif.drop('intercept', axis=1).values, i) for i in range(features_for_vif.shape[1] - 1)]\n",
        "print(vif)"
      ],
      "metadata": {
        "colab": {
          "base_uri": "https://localhost:8080/"
        },
        "id": "nUIAwHs6Kv07",
        "outputId": "90fb50c5-91de-4fa0-bd5a-4b80825b907a"
      },
      "execution_count": null,
      "outputs": [
        {
          "output_type": "stream",
          "name": "stdout",
          "text": [
            "                 Variable       VIF\n",
            "0  item_condition_id_norm  1.730245\n",
            "1      keyword_count_norm  1.704829\n",
            "2           desc_len_norm  1.747975\n",
            "3                shipping  1.499515\n",
            "4                is_brand  1.966149\n"
          ]
        }
      ]
    },
    {
      "cell_type": "code",
      "source": [
        "from sklearn.model_selection import train_test_split\n",
        "from sklearn.ensemble import RandomForestRegressor\n",
        "from sklearn.metrics import mean_squared_error\n",
        "\n",
        "\n",
        "X = final_df\n",
        "y = np.log1p(train_processed['price'])\n",
        "\n",
        "X_train, X_test, y_train, y_test = train_test_split(X, y, test_size=0.2, random_state=42)\n",
        "\n",
        "model = RandomForestRegressor(n_estimators=100, random_state=42, n_jobs=-1, max_depth=10)\n",
        "\n",
        "model.fit(X_train, y_train)\n",
        "predictions = model.predict(X_test)\n",
        "\n",
        "mse = mean_squared_error(y_test, predictions)\n",
        "print(f\"MSE: {mse:.4f}\")\n",
        "\n",
        "#변수 중요도 추출\n",
        "feature_importances = pd.Series(model.feature_importances_, index=X_train.columns)\n",
        "\n",
        "# 상위 20개, 중요도 순으로 정렬\n",
        "plt.figure(figsize=(12, 8))\n",
        "feature_importances.nlargest(20).sort_values(ascending=True).plot(kind='barh') # 보기 좋게 정렬\n",
        "plt.title('가격 예측에 중요한 상위 20개 변수', fontsize=16)\n",
        "plt.xlabel('피처 중요도', fontsize=12)\n",
        "plt.show()"
      ],
      "metadata": {
        "colab": {
          "base_uri": "https://localhost:8080/",
          "height": 739
        },
        "id": "jjZ9mOBPLvgo",
        "outputId": "a342ad13-0daa-4989-89d4-dfb1fb8120e9"
      },
      "execution_count": null,
      "outputs": [
        {
          "output_type": "stream",
          "name": "stdout",
          "text": [
            "MSE: 0.4595\n"
          ]
        },
        {
          "output_type": "display_data",
          "data": {
            "text/plain": [
              "<Figure size 1200x800 with 1 Axes>"
            ],
            "image/png": "[encoded data removed]"
          },
          "metadata": {}
        }
      ]
    }
  ]
}